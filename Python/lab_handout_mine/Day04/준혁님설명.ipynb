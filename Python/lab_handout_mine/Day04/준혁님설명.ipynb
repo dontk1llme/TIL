{
 "cells": [
  {
   "cell_type": "code",
   "execution_count": 1,
   "metadata": {},
   "outputs": [
    {
     "name": "stdout",
     "output_type": "stream",
     "text": [
      "7\n"
     ]
    }
   ],
   "source": [
    "#return 있고 print 없음\n",
    "def add(a,b):\n",
    "    return a+b\n",
    "\n",
    "print(add(3,4))\n"
   ]
  },
  {
   "cell_type": "code",
   "execution_count": 2,
   "metadata": {},
   "outputs": [
    {
     "name": "stdout",
     "output_type": "stream",
     "text": [
      "a와 b를 더하면: 7\n",
      "print는 오백만개라도 쓸 수 잇어요 어디든지...\n",
      "그치만 return은 무족건 하나...\n",
      "7\n"
     ]
    }
   ],
   "source": [
    "#return 있고 print 있음\n",
    "def add(a,b):\n",
    "    print(f'a와 b를 더하면: {a+b}')\n",
    "    print('print는 오백만개라도 쓸 수 잇어요 어디든지...')\n",
    "    print('그치만 return은 무족건 하나...')\n",
    "    return a+b\n",
    "\n",
    "print(add(3,4)) \n",
    "\n",
    "#none이 안 나오는 이유: print(print()를 한 게 아님!! \n",
    "#함수를 실행하는 과정에서 print가 자동으로 된 거고, 맨 아랫줄의 print가 출력한 것은 결국\n",
    "#return에 있는 a+b인 거임"
   ]
  },
  {
   "cell_type": "code",
   "execution_count": 6,
   "metadata": {},
   "outputs": [
    {
     "name": "stdout",
     "output_type": "stream",
     "text": [
      "7\n",
      "7\n",
      "None\n",
      "-------------------------\n",
      "7\n",
      "None\n"
     ]
    }
   ],
   "source": [
    "#return 없고 print 있음\n",
    "def add(a,b):\n",
    "    print(a+b)\n",
    "\n",
    "add(3,4) #얘 하면 7이 나오지만\n",
    "n = add(3,4) #얘의 값은 무엇일까요?\n",
    "print(n) #none입니다... 왜냐? 함수가 return값이 없어서 할당되어 저장된 값이 없기 때문에...\n",
    "print('-------------------------')\n",
    "print(add(3,4)) #그럼 얘는 7과 none 나오겟죠? 이미 프린트7은 함수 내에서 실행되었고 print할 게 없는데 print 시키니까 엥? 없는데 왜시킴? none"
   ]
  }
 ],
 "metadata": {
  "kernelspec": {
   "display_name": "Python 3",
   "language": "python",
   "name": "python3"
  },
  "language_info": {
   "codemirror_mode": {
    "name": "ipython",
    "version": 3
   },
   "file_extension": ".py",
   "mimetype": "text/x-python",
   "name": "python",
   "nbconvert_exporter": "python",
   "pygments_lexer": "ipython3",
   "version": "3.9.13"
  },
  "orig_nbformat": 4,
  "vscode": {
   "interpreter": {
    "hash": "c4b9ebf4ca459396e2ad1150752490c26670c1a037c08cad955a4425787bec2e"
   }
  }
 },
 "nbformat": 4,
 "nbformat_minor": 2
}
