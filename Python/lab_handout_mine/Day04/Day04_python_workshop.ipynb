{
 "cells": [
  {
   "cell_type": "code",
   "execution_count": 1,
   "metadata": {},
   "outputs": [
    {
     "name": "stdout",
     "output_type": "stream",
     "text": [
      "1 2 5 10 "
     ]
    }
   ],
   "source": [
    "#1\n",
    "\n",
    "n = int(input())\n",
    "for i in range (1,n+1):\n",
    "    if n%i==0: print(i, end=' ')"
   ]
  },
  {
   "cell_type": "code",
   "execution_count": 16,
   "metadata": {},
   "outputs": [
    {
     "name": "stdout",
     "output_type": "stream",
     "text": [
      "15\n"
     ]
    }
   ],
   "source": [
    "#2\n",
    "#list_sum=([1,2,3,4,5])\n",
    "list_sum=list(map(int,input().split()))\n",
    "sum=0\n",
    "for i in list_sum:\n",
    "    sum+=i\n",
    "print(sum)"
   ]
  },
  {
   "cell_type": "code",
   "execution_count": 10,
   "metadata": {},
   "outputs": [
    {
     "data": {
      "text/plain": [
       "16"
      ]
     },
     "execution_count": 10,
     "metadata": {},
     "output_type": "execute_result"
    }
   ],
   "source": [
    "#3\n",
    "def dict_list_sum(ls):\n",
    "    sum=0\n",
    "    for i in ls:\n",
    "        sum+=i['age']\n",
    "    return sum\n",
    "\n",
    "ls=[{'name': 'kim', 'age': 12},{'name': 'lee', 'age': 4}]\n",
    "dict_list_sum(ls)\n"
   ]
  },
  {
   "cell_type": "code",
   "execution_count": 18,
   "metadata": {},
   "outputs": [
    {
     "name": "stdout",
     "output_type": "stream",
     "text": [
      "[['[', '1', ']'], ['[', '2'], ['3', ']'], ['[', '4'], ['5'], ['6', ']'], ['[', '7'], ['8'], ['9'], ['1', '0', ']']]\n"
     ]
    },
    {
     "ename": "TypeError",
     "evalue": "unsupported operand type(s) for +=: 'int' and 'str'",
     "output_type": "error",
     "traceback": [
      "\u001b[1;31m---------------------------------------------------------------------------\u001b[0m",
      "\u001b[1;31mTypeError\u001b[0m                                 Traceback (most recent call last)",
      "Cell \u001b[1;32mIn[18], line 12\u001b[0m\n\u001b[0;32m     10\u001b[0m ls \u001b[39m=\u001b[39m \u001b[39mlist\u001b[39m(\u001b[39mmap\u001b[39m(\u001b[39mlist\u001b[39m,\u001b[39minput\u001b[39m()\u001b[39m.\u001b[39msplit(\u001b[39m'\u001b[39m\u001b[39m,\u001b[39m\u001b[39m'\u001b[39m)))\n\u001b[0;32m     11\u001b[0m \u001b[39mprint\u001b[39m(ls)\n\u001b[1;32m---> 12\u001b[0m \u001b[39mprint\u001b[39m(all_list_sum(ls))\n",
      "Cell \u001b[1;32mIn[18], line 6\u001b[0m, in \u001b[0;36mall_list_sum\u001b[1;34m(ls)\u001b[0m\n\u001b[0;32m      4\u001b[0m \u001b[39mfor\u001b[39;00m i \u001b[39min\u001b[39;00m ls:\n\u001b[0;32m      5\u001b[0m     \u001b[39mfor\u001b[39;00m j \u001b[39min\u001b[39;00m \u001b[39mrange\u001b[39m (\u001b[39m0\u001b[39m,\u001b[39mlen\u001b[39m(i)):\n\u001b[1;32m----> 6\u001b[0m         \u001b[39msum\u001b[39m\u001b[39m+\u001b[39m\u001b[39m=\u001b[39mi[j]\n\u001b[0;32m      7\u001b[0m \u001b[39mreturn\u001b[39;00m \u001b[39msum\u001b[39m\n",
      "\u001b[1;31mTypeError\u001b[0m: unsupported operand type(s) for +=: 'int' and 'str'"
     ]
    }
   ],
   "source": [
    "#4\n",
    "def all_list_sum(ls):\n",
    "    sum=0\n",
    "    for i in ls:\n",
    "        for j in range (0,len(i)):\n",
    "            sum+=i[j]\n",
    "    return sum\n",
    "\n",
    "# ls=[[1],[2,3],[4,5,6],[7,8,9,10]] -> 잘됨\n",
    "# 리스트 길이를 모르는데 어떻게 2차원 배열을 입력받지요?? 모르겟습...\n",
    "print(ls)\n",
    "print(all_list_sum(ls))"
   ]
  },
  {
   "cell_type": "code",
   "execution_count": 19,
   "metadata": {},
   "outputs": [
    {
     "name": "stdout",
     "output_type": "stream",
     "text": [
      "SsAfY\n"
     ]
    }
   ],
   "source": [
    "#5\n",
    "\n",
    "def get_secret_word(ls):\n",
    "    str = ''\n",
    "    for i in ls:\n",
    "        str+=chr(i)\n",
    "    return str\n",
    "\n",
    "ls=list(map(int, input().split()))\n",
    "print(get_secret_word(ls))"
   ]
  },
  {
   "cell_type": "code",
   "execution_count": 20,
   "metadata": {},
   "outputs": [
    {
     "name": "stdout",
     "output_type": "stream",
     "text": [
      "546\n"
     ]
    }
   ],
   "source": [
    "#6\n",
    "str = input()\n",
    "\n",
    "def get_secret_number(str):\n",
    "    num=0\n",
    "    for i in range(0,len(str)):\n",
    "        num+=ord(str[i])\n",
    "    return num\n",
    "\n",
    "print(get_secret_number(str))"
   ]
  },
  {
   "cell_type": "code",
   "execution_count": 31,
   "metadata": {},
   "outputs": [
    {
     "name": "stdout",
     "output_type": "stream",
     "text": [
      "delilah\n"
     ]
    }
   ],
   "source": [
    "#7 \n",
    "a,b=input().split()\n",
    "\n",
    "def get_strong_word(a,b):\n",
    "    num1, num2=0,0\n",
    "    for i in range(0,len(a)):\n",
    "        num1+=ord(a[i])\n",
    "    for j in range(0,len(b)):\n",
    "        num2+=ord(b[j])\n",
    "    if num1>num2: return a\n",
    "    elif num2>num1: return b\n",
    "    else: return 'same'\n",
    "\n",
    "print(get_strong_word(a,b))\n"
   ]
  }
 ],
 "metadata": {
  "kernelspec": {
   "display_name": "Python 3",
   "language": "python",
   "name": "python3"
  },
  "language_info": {
   "codemirror_mode": {
    "name": "ipython",
    "version": 3
   },
   "file_extension": ".py",
   "mimetype": "text/x-python",
   "name": "python",
   "nbconvert_exporter": "python",
   "pygments_lexer": "ipython3",
   "version": "3.9.13"
  },
  "orig_nbformat": 4,
  "vscode": {
   "interpreter": {
    "hash": "c4b9ebf4ca459396e2ad1150752490c26670c1a037c08cad955a4425787bec2e"
   }
  }
 },
 "nbformat": 4,
 "nbformat_minor": 2
}
