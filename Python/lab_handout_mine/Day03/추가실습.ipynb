{
 "cells": [
  {
   "attachments": {},
   "cell_type": "markdown",
   "metadata": {},
   "source": [
    "1. name와 age 라는 두개의 argument를 넘기면 각각 이 값을 출력하는 함수를\n",
    "작성해보세요."
   ]
  },
  {
   "cell_type": "code",
   "execution_count": 2,
   "metadata": {},
   "outputs": [
    {
     "name": "stdout",
     "output_type": "stream",
     "text": [
      "스리 24\n"
     ]
    }
   ],
   "source": [
    "def num1(name, age):\n",
    "    print(name, age)\n",
    "\n",
    "num1('스리', 24)"
   ]
  },
  {
   "attachments": {},
   "cell_type": "markdown",
   "metadata": {},
   "source": [
    "2. 두개의 매개변수가 있고, 이 매개변수들을 덧셈하고 뺄셈한 결과를 모두 반환하는 함수를 작성해 보세요."
   ]
  },
  {
   "cell_type": "code",
   "execution_count": 3,
   "metadata": {},
   "outputs": [
    {
     "name": "stdout",
     "output_type": "stream",
     "text": [
      "(5, 1)\n"
     ]
    }
   ],
   "source": [
    "def cc(a,b):\n",
    "    c=a+b\n",
    "    d=a-b\n",
    "    return c,d\n",
    "\n",
    "print(cc(3,2))"
   ]
  },
  {
   "attachments": {},
   "cell_type": "markdown",
   "metadata": {},
   "source": [
    "3. 우리 회사 멤버의 이름과 연봉을 출력하는 함수를 만들어보세요.\n",
    "매개변수는 이름과 연봉이 들어가는데, 만약 함수 호출에서 연봉이 누락되면 기본으로 4500이 나오도록 해주세요."
   ]
  },
  {
   "cell_type": "code",
   "execution_count": 5,
   "metadata": {},
   "outputs": [
    {
     "name": "stdout",
     "output_type": "stream",
     "text": [
      "스리 5000\n",
      "어쩔 4500\n"
     ]
    }
   ],
   "source": [
    "def company(name, money=4500):\n",
    "    print(name, money)\n",
    "\n",
    "company('스리', 5000)\n",
    "company('어쩔')"
   ]
  },
  {
   "attachments": {},
   "cell_type": "markdown",
   "metadata": {},
   "source": [
    "4. n을 넘기면 1부터 n까지 더하는 my_sum 함수를 만들어보세요 (for 사용)"
   ]
  },
  {
   "cell_type": "code",
   "execution_count": 6,
   "metadata": {},
   "outputs": [
    {
     "data": {
      "text/plain": [
       "55"
      ]
     },
     "execution_count": 6,
     "metadata": {},
     "output_type": "execute_result"
    }
   ],
   "source": [
    "def my_sum(n):\n",
    "    sum=0\n",
    "    for i in range(1,n+1):\n",
    "        sum+=i\n",
    "    return sum\n",
    "\n",
    "my_sum(10)"
   ]
  },
  {
   "attachments": {},
   "cell_type": "markdown",
   "metadata": {},
   "source": [
    "5. 4번을 while로 바꿔보세요"
   ]
  },
  {
   "cell_type": "code",
   "execution_count": 7,
   "metadata": {},
   "outputs": [
    {
     "data": {
      "text/plain": [
       "55"
      ]
     },
     "execution_count": 7,
     "metadata": {},
     "output_type": "execute_result"
    }
   ],
   "source": [
    "def my_sum(n):\n",
    "    sum=0\n",
    "    while n>0:\n",
    "        sum+=n\n",
    "        n-=1\n",
    "    return sum\n",
    "\n",
    "my_sum(10)"
   ]
  },
  {
   "attachments": {},
   "cell_type": "markdown",
   "metadata": {},
   "source": [
    "6. 주어진 리스트에서 가장 큰 값을 찾아주는 함수를 작성해 보세요.\n",
    "```\n",
    "num_list = [4, 6, 8, 24, 12, 2]\n",
    "```"
   ]
  },
  {
   "cell_type": "code",
   "execution_count": 8,
   "metadata": {},
   "outputs": [
    {
     "data": {
      "text/plain": [
       "24"
      ]
     },
     "execution_count": 8,
     "metadata": {},
     "output_type": "execute_result"
    }
   ],
   "source": [
    "def maxnum(list):\n",
    "    max = 0\n",
    "    for i in list:\n",
    "        if i > max: max=i\n",
    "    return max\n",
    "\n",
    "num_list = [4, 6, 8, 24, 12, 2]\n",
    "maxnum(num_list)"
   ]
  }
 ],
 "metadata": {
  "kernelspec": {
   "display_name": "Python 3",
   "language": "python",
   "name": "python3"
  },
  "language_info": {
   "codemirror_mode": {
    "name": "ipython",
    "version": 3
   },
   "file_extension": ".py",
   "mimetype": "text/x-python",
   "name": "python",
   "nbconvert_exporter": "python",
   "pygments_lexer": "ipython3",
   "version": "3.9.13"
  },
  "orig_nbformat": 4,
  "vscode": {
   "interpreter": {
    "hash": "c4b9ebf4ca459396e2ad1150752490c26670c1a037c08cad955a4425787bec2e"
   }
  }
 },
 "nbformat": 4,
 "nbformat_minor": 2
}
